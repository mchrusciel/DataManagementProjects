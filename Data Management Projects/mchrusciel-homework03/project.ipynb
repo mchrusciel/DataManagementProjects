{
 "cells": [
  {
   "cell_type": "code",
   "execution_count": 8,
   "metadata": {},
   "outputs": [],
   "source": [
    "import pandas as pd\n",
    "import urllib\n",
    "import json\n",
    "import matplotlib.pyplot as plt\n",
    "df = pd.read_json('https://financialmodelingprep.com/api/majors-indexes?datatype=json')\n"
   ]
  },
  {
   "cell_type": "markdown",
   "metadata": {},
   "source": [
    "## Description:\n",
    "\n",
    "This is a relatively small datset of the major stock indexes and ther prices close to the end of the third quarter currently.\n",
    "Currently, I'm just cleaning this data for further analysis later i.e. a full recap on this years stocks/annual analysis or even as comparison to the coming quarters in the future.\n"
   ]
  },
  {
   "cell_type": "markdown",
   "metadata": {},
   "source": [
    "## Type Conversion of a row\n"
   ]
  },
  {
   "cell_type": "code",
   "execution_count": 3,
   "metadata": {},
   "outputs": [
    {
     "data": {
      "text/plain": [
       ".DJI       26496.7000\n",
       ".IXIC       7963.0000\n",
       ".INX        2938.1300\n",
       "%5EFCHI     5569.0500\n",
       "%5ERUI      1622.4900\n",
       "%5ERUT      1485.3600\n",
       "%5EPSE      3385.2700\n",
       "%5EDJT     10057.5000\n",
       "%5EIXCO     5065.6600\n",
       "%5EMID      1880.7300\n",
       "%5ENDX      7738.0600\n",
       "%5ENYA     12759.8000\n",
       "%5EOEX      1301.9300\n",
       "%5ESOX      1555.7900\n",
       "%5EXAU        92.1264\n",
       "%5EXAX      2402.3900\n",
       "%5EXMI      2673.3700\n",
       "Name: Price, dtype: float64"
      ]
     },
     "execution_count": 3,
     "metadata": {},
     "output_type": "execute_result"
    }
   ],
   "source": [
    "df.loc['Price'].apply(float)"
   ]
  },
  {
   "cell_type": "code",
   "execution_count": 4,
   "metadata": {},
   "outputs": [
    {
     "data": {
      "text/html": [
       "<div>\n",
       "<style scoped>\n",
       "    .dataframe tbody tr th:only-of-type {\n",
       "        vertical-align: middle;\n",
       "    }\n",
       "\n",
       "    .dataframe tbody tr th {\n",
       "        vertical-align: top;\n",
       "    }\n",
       "\n",
       "    .dataframe thead th {\n",
       "        text-align: right;\n",
       "    }\n",
       "</style>\n",
       "<table border=\"1\" class=\"dataframe\">\n",
       "  <thead>\n",
       "    <tr style=\"text-align: right;\">\n",
       "      <th></th>\n",
       "      <th>.DJI</th>\n",
       "      <th>.IXIC</th>\n",
       "      <th>.INX</th>\n",
       "      <th>%5EFCHI</th>\n",
       "      <th>%5ERUI</th>\n",
       "      <th>%5ERUT</th>\n",
       "      <th>%5EPSE</th>\n",
       "      <th>%5EDJT</th>\n",
       "      <th>%5EIXCO</th>\n",
       "      <th>%5EMID</th>\n",
       "      <th>%5ENDX</th>\n",
       "      <th>%5ENYA</th>\n",
       "      <th>%5EOEX</th>\n",
       "      <th>%5ESOX</th>\n",
       "      <th>%5EXAU</th>\n",
       "      <th>%5EXAX</th>\n",
       "      <th>%5EXMI</th>\n",
       "    </tr>\n",
       "  </thead>\n",
       "  <tbody>\n",
       "    <tr>\n",
       "      <td>Ticker</td>\n",
       "      <td>.DJI</td>\n",
       "      <td>.IXIC</td>\n",
       "      <td>.INX</td>\n",
       "      <td>%5EFCHI</td>\n",
       "      <td>%5ERUI</td>\n",
       "      <td>%5ERUT</td>\n",
       "      <td>%5EPSE</td>\n",
       "      <td>%5EDJT</td>\n",
       "      <td>%5EIXCO</td>\n",
       "      <td>%5EMID</td>\n",
       "      <td>%5ENDX</td>\n",
       "      <td>%5ENYA</td>\n",
       "      <td>%5EOEX</td>\n",
       "      <td>%5ESOX</td>\n",
       "      <td>%5EXAU</td>\n",
       "      <td>%5EXAX</td>\n",
       "      <td>%5EXMI</td>\n",
       "    </tr>\n",
       "    <tr>\n",
       "      <td>Price</td>\n",
       "      <td>26496.7</td>\n",
       "      <td>7963</td>\n",
       "      <td>2938.13</td>\n",
       "      <td>5569.05</td>\n",
       "      <td>1622.49</td>\n",
       "      <td>1485.36</td>\n",
       "      <td>3385.27</td>\n",
       "      <td>10057.5</td>\n",
       "      <td>5065.66</td>\n",
       "      <td>1880.73</td>\n",
       "      <td>7738.06</td>\n",
       "      <td>12759.8</td>\n",
       "      <td>1301.93</td>\n",
       "      <td>1555.79</td>\n",
       "      <td>92.1264</td>\n",
       "      <td>2402.39</td>\n",
       "      <td>2673.37</td>\n",
       "    </tr>\n",
       "    <tr>\n",
       "      <td>Changes</td>\n",
       "      <td>179.369</td>\n",
       "      <td>-52</td>\n",
       "      <td>19.5799</td>\n",
       "      <td>48.0698</td>\n",
       "      <td>9.6559</td>\n",
       "      <td>4.6584</td>\n",
       "      <td>14.9589</td>\n",
       "      <td>140.03</td>\n",
       "      <td>41.0562</td>\n",
       "      <td>5.18</td>\n",
       "      <td>49.6401</td>\n",
       "      <td>71.2129</td>\n",
       "      <td>8.1901</td>\n",
       "      <td>9.7508</td>\n",
       "      <td>0.4999</td>\n",
       "      <td>5.5388</td>\n",
       "      <td>3.2402</td>\n",
       "    </tr>\n",
       "    <tr>\n",
       "      <td>updated_at</td>\n",
       "      <td>2019-10-10 16:30:02</td>\n",
       "      <td>2019-08-30 16:01:14</td>\n",
       "      <td>2019-10-10 16:30:08</td>\n",
       "      <td>2019-10-10 16:30:15</td>\n",
       "      <td>2019-10-10 16:30:21</td>\n",
       "      <td>2019-10-10 16:30:27</td>\n",
       "      <td>2019-10-10 15:34:15</td>\n",
       "      <td>2019-10-10 15:34:21</td>\n",
       "      <td>2019-10-10 15:34:27</td>\n",
       "      <td>2019-10-10 15:02:31</td>\n",
       "      <td>2019-10-10 16:02:01</td>\n",
       "      <td>2019-10-10 16:02:07</td>\n",
       "      <td>2019-10-10 16:02:14</td>\n",
       "      <td>2019-10-10 16:02:21</td>\n",
       "      <td>2019-10-10 16:02:27</td>\n",
       "      <td>2019-10-10 16:02:33</td>\n",
       "      <td>2019-10-10 09:34:01</td>\n",
       "    </tr>\n",
       "    <tr>\n",
       "      <td>Name</td>\n",
       "      <td>Dow Jones</td>\n",
       "      <td>Nasdaq</td>\n",
       "      <td>S&amp;P 500</td>\n",
       "      <td>CAC 40</td>\n",
       "      <td>Russell 1000 Index</td>\n",
       "      <td>Russell 2000 Index</td>\n",
       "      <td>NYSE Arca Technology 100 Index</td>\n",
       "      <td>Dow Jones Transportation Average</td>\n",
       "      <td>NASDAQ Computer Index</td>\n",
       "      <td>S&amp;P 400 Mid Cap Index</td>\n",
       "      <td>NASDAQ 100 Index</td>\n",
       "      <td>NYSE Composite Index</td>\n",
       "      <td>S&amp;P 100 Index</td>\n",
       "      <td>PHLX Semiconductor Index</td>\n",
       "      <td>PHLX Gold/Silver Index</td>\n",
       "      <td>NYSE American Composite Index</td>\n",
       "      <td>NYSE Arca Major Market Index</td>\n",
       "    </tr>\n",
       "  </tbody>\n",
       "</table>\n",
       "</div>"
      ],
      "text/plain": [
       "                           .DJI                .IXIC                 .INX  \\\n",
       "Ticker                     .DJI                .IXIC                 .INX   \n",
       "Price                   26496.7                 7963              2938.13   \n",
       "Changes                 179.369                  -52              19.5799   \n",
       "updated_at  2019-10-10 16:30:02  2019-08-30 16:01:14  2019-10-10 16:30:08   \n",
       "Name                  Dow Jones               Nasdaq              S&P 500   \n",
       "\n",
       "                        %5EFCHI               %5ERUI               %5ERUT  \\\n",
       "Ticker                  %5EFCHI               %5ERUI               %5ERUT   \n",
       "Price                   5569.05              1622.49              1485.36   \n",
       "Changes                 48.0698               9.6559               4.6584   \n",
       "updated_at  2019-10-10 16:30:15  2019-10-10 16:30:21  2019-10-10 16:30:27   \n",
       "Name                     CAC 40   Russell 1000 Index   Russell 2000 Index   \n",
       "\n",
       "                                    %5EPSE                            %5EDJT  \\\n",
       "Ticker                              %5EPSE                            %5EDJT   \n",
       "Price                              3385.27                           10057.5   \n",
       "Changes                            14.9589                            140.03   \n",
       "updated_at             2019-10-10 15:34:15               2019-10-10 15:34:21   \n",
       "Name        NYSE Arca Technology 100 Index  Dow Jones Transportation Average   \n",
       "\n",
       "                          %5EIXCO                 %5EMID               %5ENDX  \\\n",
       "Ticker                    %5EIXCO                 %5EMID               %5ENDX   \n",
       "Price                     5065.66                1880.73              7738.06   \n",
       "Changes                   41.0562                   5.18              49.6401   \n",
       "updated_at    2019-10-10 15:34:27    2019-10-10 15:02:31  2019-10-10 16:02:01   \n",
       "Name        NASDAQ Computer Index  S&P 400 Mid Cap Index     NASDAQ 100 Index   \n",
       "\n",
       "                          %5ENYA               %5EOEX  \\\n",
       "Ticker                    %5ENYA               %5EOEX   \n",
       "Price                    12759.8              1301.93   \n",
       "Changes                  71.2129               8.1901   \n",
       "updated_at   2019-10-10 16:02:07  2019-10-10 16:02:14   \n",
       "Name        NYSE Composite Index        S&P 100 Index   \n",
       "\n",
       "                              %5ESOX                  %5EXAU  \\\n",
       "Ticker                        %5ESOX                  %5EXAU   \n",
       "Price                        1555.79                 92.1264   \n",
       "Changes                       9.7508                  0.4999   \n",
       "updated_at       2019-10-10 16:02:21     2019-10-10 16:02:27   \n",
       "Name        PHLX Semiconductor Index  PHLX Gold/Silver Index   \n",
       "\n",
       "                                   %5EXAX                        %5EXMI  \n",
       "Ticker                             %5EXAX                        %5EXMI  \n",
       "Price                             2402.39                       2673.37  \n",
       "Changes                            5.5388                        3.2402  \n",
       "updated_at            2019-10-10 16:02:33           2019-10-10 09:34:01  \n",
       "Name        NYSE American Composite Index  NYSE Arca Major Market Index  "
      ]
     },
     "execution_count": 4,
     "metadata": {},
     "output_type": "execute_result"
    }
   ],
   "source": [
    "df"
   ]
  },
  {
   "cell_type": "markdown",
   "metadata": {},
   "source": [
    "## Plotting the different indice prices on bar plot - visualization\n",
    "Utlized pandas plotting functions"
   ]
  },
  {
   "cell_type": "code",
   "execution_count": 5,
   "metadata": {},
   "outputs": [
    {
     "data": {
      "text/plain": [
       "<matplotlib.axes._subplots.AxesSubplot at 0x1a299c27f60>"
      ]
     },
     "execution_count": 5,
     "metadata": {},
     "output_type": "execute_result"
    },
    {
     "data": {
      "image/png": "[encoded data removed]",
      "text/plain": [
       "<Figure size 432x288 with 1 Axes>"
      ]
     },
     "metadata": {
      "needs_background": "light"
     },
     "output_type": "display_data"
    }
   ],
   "source": [
    "row = df.loc['Price']\n",
    "row.plot.bar()\n"
   ]
  },
  {
   "cell_type": "markdown",
   "metadata": {},
   "source": [
    "## Summary Statistics\n",
    "Simply used loc and pandas methods"
   ]
  },
  {
   "cell_type": "code",
   "execution_count": 6,
   "metadata": {},
   "outputs": [
    {
     "data": {
      "text/plain": [
       "92.1264"
      ]
     },
     "execution_count": 6,
     "metadata": {},
     "output_type": "execute_result"
    }
   ],
   "source": [
    "df.loc['Price'].max()\n"
   ]
  },
  {
   "cell_type": "code",
   "execution_count": 7,
   "metadata": {},
   "outputs": [
    {
     "data": {
      "text/plain": [
       "92.1264"
      ]
     },
     "execution_count": 7,
     "metadata": {},
     "output_type": "execute_result"
    }
   ],
   "source": [
    "df.loc['Price'].min()"
   ]
  },
  {
   "cell_type": "code",
   "execution_count": 45,
   "metadata": {},
   "outputs": [
    {
     "data": {
      "text/plain": [
       "5582.587647058823"
      ]
     },
     "execution_count": 45,
     "metadata": {},
     "output_type": "execute_result"
    }
   ],
   "source": [
    "df.loc['Price'].mean()"
   ]
  },
  {
   "cell_type": "code",
   "execution_count": 46,
   "metadata": {},
   "outputs": [
    {
     "data": {
      "text/plain": [
       "2947.07"
      ]
     },
     "execution_count": 46,
     "metadata": {},
     "output_type": "execute_result"
    }
   ],
   "source": [
    "df.loc['Price'].median()"
   ]
  },
  {
   "cell_type": "code",
   "execution_count": 47,
   "metadata": {
    "scrolled": true
   },
   "outputs": [
    {
     "data": {
      "text/plain": [
       "count     17.00\n",
       "unique    17.00\n",
       "top       92.36\n",
       "freq       1.00\n",
       "Name: Price, dtype: float64"
      ]
     },
     "execution_count": 47,
     "metadata": {},
     "output_type": "execute_result"
    }
   ],
   "source": [
    "df.loc['Price'].describe()"
   ]
  },
  {
   "cell_type": "markdown",
   "metadata": {},
   "source": [
    "## Value Counts\n",
    "Utilized loc and value counts methods"
   ]
  },
  {
   "cell_type": "code",
   "execution_count": 48,
   "metadata": {},
   "outputs": [
    {
     "data": {
      "text/plain": [
       "92.36       1\n",
       "26581.20    1\n",
       "1514.45     1\n",
       "2386.68     1\n",
       "2673.37     1\n",
       "1627.35     1\n",
       "1491.37     1\n",
       "5578.83     1\n",
       "5065.66     1\n",
       "7963.00     1\n",
       "2947.07     1\n",
       "1891.18     1\n",
       "7738.06     1\n",
       "1282.82     1\n",
       "3328.09     1\n",
       "12684.80    1\n",
       "10057.70    1\n",
       "Name: Price, dtype: int64"
      ]
     },
     "execution_count": 48,
     "metadata": {},
     "output_type": "execute_result"
    }
   ],
   "source": [
    "df.loc['Price'].value_counts()"
   ]
  }
 ],
 "metadata": {
  "kernelspec": {
   "display_name": "Python 3",
   "language": "python",
   "name": "python3"
  },
  "language_info": {
   "codemirror_mode": {
    "name": "ipython",
    "version": 3
   },
   "file_extension": ".py",
   "mimetype": "text/x-python",
   "name": "python",
   "nbconvert_exporter": "python",
   "pygments_lexer": "ipython3",
   "version": "3.7.3"
  }
 },
 "nbformat": 4,
 "nbformat_minor": 4
}

{
 "cells": [
  {
   "cell_type": "markdown",
   "metadata": {},
   "source": [
    "# Homework 2\n",
    "\n",
    "Summary Statistics and Basic Data Visualization"
   ]
  },
  {
   "cell_type": "markdown",
   "metadata": {},
   "source": [
    "# Homework 02\n",
    "\n",
    "## About the Data\n",
    "\n",
    "### Using a new data set because previous one only had 1 numeric column\n",
    "\n",
    "1. Name: Uniqlo (FastRetailing) Stock Price Prediction\n",
    "2. Link to Data: https://www.kaggle.com/daiearth22/uniqlo-fastretailing-stock-price-prediction/download\n",
    "3. Source / Origin: This was data taken from the Tokyo Stock Exchange on the Clothing Company Uniqlo - the title has prediction in it because this dataset was posted to kaggle for fintech hackathon participants to utilize - it looks like it was scraped from an open market data site http://k-db.com/, and then posted to kaggle\n",
    "4. Motivation: I shop at Uniqlo regularly (great clothes), and I am interested in financial markets/analysis. Modeling this stock data could allow for insights to be made on trends and possibly even predictions if proper tools are applied.\n",
    "5. Questions: What were the average high prices and average low prices of uniqlo stock prices? What is the variance and standard deviation on these same statistics? Overall, where does the stock seem to be going based on its prior trends?\n",
    "\n",
    "6. Additionally, I should point out that the stock prices measured in this data is in Yen. Also, I have attachd an xlsx file that contains manual summary statistic calculations at the bottom of the dataset.\n"
   ]
  },
  {
   "cell_type": "code",
   "execution_count": 3,
   "metadata": {},
   "outputs": [],
   "source": [
    "import numpy as np\n",
    "import csv"
   ]
  },
  {
   "cell_type": "code",
   "execution_count": 1,
   "metadata": {},
   "outputs": [
    {
     "name": "stdout",
     "output_type": "stream",
     "text": [
      "['Date', 'Open', 'High', 'Low', 'Close', 'Volume', 'Stock Trading']\n",
      "['2016-12-30', '42120', '42330', '41700', '41830', '610000', '25628028000']\n",
      "['2016-12-29', '43000', '43220', '42540', '42660', '448400', '19188227000']\n",
      "['2016-12-28', '43940', '43970', '43270', '43270', '339900', '14780670000']\n",
      "['2016-12-27', '43140', '43700', '43140', '43620', '400100', '17427993000']\n",
      "['2016-12-26', '43310', '43660', '43090', '43340', '358200', '15547803000']\n",
      "['2016-12-22', '43660', '43840', '43190', '43480', '381600', '16586491000']\n",
      "['2016-12-21', '43900', '44370', '43610', '44000', '658900', '28994316000']\n",
      "['2016-12-20', '42910', '43630', '42860', '43620', '499400', '21606102000']\n",
      "['2016-12-19', '42790', '43150', '42740', '43130', '358700', '15428531000']\n",
      "['2016-12-16', '43350', '43550', '42810', '43130', '542000', '23380606000']\n"
     ]
    }
   ],
   "source": [
    "with open('Uniqlo(FastRetailing) 2012-2016 Training - stocks2012-2016.csv', 'r', encoding = 'utf-8') as file:\n",
    "\n",
    "    i = 0\n",
    "    for line in file:\n",
    "        cleanLine = line.split(',')\n",
    "        cleanLine[-1] = cleanLine[-1].strip()\n",
    "        print(cleanLine)\n",
    "        \n",
    "        i+=1\n",
    "        if(i > 10):\n",
    "            break\n",
    "\n",
    "        \n",
    "#Below is organization of the data with data types\n",
    "# Date: Likely string, but can be converted to date type\n",
    "\n",
    "# Following Data are all ints\n",
    "\n",
    "# Open Price\n",
    "# High Price\n",
    "# Low Price\n",
    "# Closing Price\n",
    "# Volume\n",
    "# Stock trading\n",
    "\n"
   ]
  },
  {
   "cell_type": "code",
   "execution_count": 2,
   "metadata": {
    "scrolled": true
   },
   "outputs": [
    {
     "ename": "NameError",
     "evalue": "name 'np' is not defined",
     "output_type": "error",
     "traceback": [
      "\u001b[1;31m---------------------------------------------------------------------------\u001b[0m",
      "\u001b[1;31mNameError\u001b[0m                                 Traceback (most recent call last)",
      "\u001b[1;32m<ipython-input-2-4e6d0ae586b2>\u001b[0m in \u001b[0;36m<module>\u001b[1;34m\u001b[0m\n\u001b[0;32m      6\u001b[0m     \u001b[1;31m#print(firstLine)\u001b[0m\u001b[1;33m\u001b[0m\u001b[1;33m\u001b[0m\u001b[1;33m\u001b[0m\u001b[0m\n\u001b[0;32m      7\u001b[0m \u001b[1;33m\u001b[0m\u001b[0m\n\u001b[1;32m----> 8\u001b[1;33m     \u001b[0mHighArr\u001b[0m \u001b[1;33m=\u001b[0m \u001b[0mnp\u001b[0m\u001b[1;33m.\u001b[0m\u001b[0marray\u001b[0m\u001b[1;33m(\u001b[0m\u001b[1;33m[\u001b[0m\u001b[1;33m]\u001b[0m\u001b[1;33m)\u001b[0m\u001b[1;33m\u001b[0m\u001b[1;33m\u001b[0m\u001b[0m\n\u001b[0m\u001b[0;32m      9\u001b[0m     \u001b[0mLowArr\u001b[0m \u001b[1;33m=\u001b[0m \u001b[0mnp\u001b[0m\u001b[1;33m.\u001b[0m\u001b[0marray\u001b[0m\u001b[1;33m(\u001b[0m\u001b[1;33m[\u001b[0m\u001b[1;33m]\u001b[0m\u001b[1;33m)\u001b[0m\u001b[1;33m\u001b[0m\u001b[1;33m\u001b[0m\u001b[0m\n\u001b[0;32m     10\u001b[0m     \u001b[0mDateData\u001b[0m \u001b[1;33m=\u001b[0m \u001b[0mnp\u001b[0m\u001b[1;33m.\u001b[0m\u001b[0marray\u001b[0m\u001b[1;33m(\u001b[0m\u001b[1;33m[\u001b[0m\u001b[1;33m]\u001b[0m\u001b[1;33m)\u001b[0m\u001b[1;33m\u001b[0m\u001b[1;33m\u001b[0m\u001b[0m\n",
      "\u001b[1;31mNameError\u001b[0m: name 'np' is not defined"
     ]
    }
   ],
   "source": [
    "#Reading in all of the data by state and put it on a plot\n",
    "firstLine = \"\"\n",
    "with open('Uniqlo(FastRetailing) 2012-2016 Training - stocks2012-2016.csv', 'r', encoding = 'utf-8') as f:\n",
    "    firstLine = f.readline().split(',')\n",
    "    firstLine[-1] = firstLine[-1].strip()\n",
    "    #print(firstLine)\n",
    "    \n",
    "    HighArr = np.array([])\n",
    "    LowArr = np.array([])\n",
    "    DateData = np.array([])\n",
    "    for i,line in enumerate(f):\n",
    "        cleanLine = line.split(',')\n",
    "        cleanLine[-1] = cleanLine[-1].strip()\n",
    "        \n",
    "        \n",
    "        HighArr = np.append(HighArr, cleanLine[2]).astype(np.int)\n",
    "        LowArr = np.append(LowArr, cleanLine[3]).astype(np.int)\n",
    "        DateData = np.append(DateData, cleanLine[0])\n",
    "        \n",
    "\n",
    "    #print(HighArr)\n",
    "    #print(LowArr)\n",
    "    #print(DateData)\n",
    "    print(\"Min value of Stock High Prices: \" + str(np.amin(HighArr)))\n",
    "    print(\"Max value of Stock High Prices: \" + str(np.amax(HighArr)))\n",
    "    print(\"Min value of Stock Low Prices: \" + str(np.amin(LowArr)))\n",
    "    print(\"Max value of Stock Low Prices: \" + str(np.amax(LowArr)))\n",
    "\n"
   ]
  },
  {
   "cell_type": "code",
   "execution_count": 105,
   "metadata": {},
   "outputs": [
    {
     "name": "stdout",
     "output_type": "stream",
     "text": [
      "Mean value of High Prices: 34178.78466557912\n",
      "\n",
      "Mean value of Low Prices: 33347.90375203915\n",
      "\n",
      "Variance for High Prices: 119505688.24563758\n",
      "\n",
      "Variance of Low Prices: 114303921.25827302\n",
      "\n",
      "Standard Deviation for High Prices: 10931.86572574131\n",
      "\n",
      "Standard Deviation for Low Prices: 10691.301195751294\n",
      "\n"
     ]
    }
   ],
   "source": [
    "MeanHigh = sum(HighArr)/len(HighArr)\n",
    "print(\"Mean value of High Prices: \" + str(MeanHigh) +\"\\n\")\n",
    "\n",
    "#Mean of Each Column Central Tendency\n",
    "MeanLow = sum(LowArr)/len(LowArr)\n",
    "print(\"Mean value of Low Prices: \" + str(MeanLow)+\"\\n\")\n",
    "\n",
    "\n",
    "\n",
    "\n",
    "#Finding Variance\n",
    "HighVar = sum((x-MeanHigh)** 2 for x in HighArr)/len(HighArr)\n",
    "print(\"Variance for High Prices: \" + str(HighVar)+\"\\n\")\n",
    "\n",
    "LowVar = sum((x-MeanLow)** 2 for x in LowArr)/len(LowArr)\n",
    "print(\"Variance of Low Prices: \" + str(LowVar)+\"\\n\")\n",
    "\n",
    "\n",
    "\n",
    "\n",
    "#Standard Deviation\n",
    "\n",
    "sdLow = LowVar ** .5\n",
    "sdHigh = HighVar **.5\n",
    "\n",
    "print(\"Standard Deviation for High Prices: \" + str(sdHigh)+\"\\n\")\n",
    "print(\"Standard Deviation for Low Prices: \" + str(sdLow)+\"\\n\")\n"
   ]
  },
  {
   "cell_type": "code",
   "execution_count": 127,
   "metadata": {},
   "outputs": [
    {
     "data": {
      "image/png": "[encoded data removed]",
      "text/plain": [
       "<Figure size 432x288 with 1 Axes>"
      ]
     },
     "metadata": {},
     "output_type": "display_data"
    },
    {
     "data": {
      "image/png": "[encoded data removed]",
      "text/plain": [
       "<Figure size 432x288 with 1 Axes>"
      ]
     },
     "metadata": {},
     "output_type": "display_data"
    }
   ],
   "source": [
    "import matplotlib.pyplot as plt \n",
    "import matplotlib.dates as matdates\n",
    "dates = matdates.num2date(matdates.datestr2num(DateData))\n",
    "#x = np.arange(len(dates))\n",
    "\n",
    "x = dates\n",
    "y = HighArr\n",
    "x2 = dates\n",
    "y2 = LowArr\n",
    "#plt.bar(x1, y, align='center', color='#aaddff')\n",
    "#plt.xticks(x1, dates)\n",
    "#plt.ylabel('High values')\n",
    "#plt.xlabel('Year')\n",
    "#plt.title('High Values over Years')\n",
    "\n",
    "\n",
    "\n",
    "\n",
    "#plt.plot(x, y, 'r--', x2, y2, 'b-')\n",
    "#plt.xticks([0,3,6,9], dates)\n",
    "#plt.xlim(0, 9)\n",
    "\n",
    "fig, ax= plt.subplots()\n",
    "\n",
    "ax.plot_date(x, y, marker='', linestyle='-')\n",
    "#ax.xlabel('Year')\n",
    "#ax.ylabel('High Prices')\n",
    "ax.title.set_text('High Prices over Years')\n",
    "ax.set_xlabel('Years')\n",
    "ax.set_ylabel('High Prices')\n",
    "fig.autofmt_xdate()\n",
    "plt.show()\n",
    "\n",
    "fig, ax2 = plt.subplots()\n",
    "\n",
    "ax2.plot_date(x2, y2, marker='', linestyle='-')\n",
    "ax2.title.set_text('Low Prices over Years')\n",
    "ax2.set_xlabel('Years')\n",
    "ax2.set_ylabel('Low Prices')\n",
    "fig.autofmt_xdate()\n",
    "plt.show()\n",
    "\n",
    "\n"
   ]
  },
  {
   "cell_type": "code",
   "execution_count": 128,
   "metadata": {},
   "outputs": [],
   "source": [
    "#Made two visualizations above of the high values and low values of stocks that were traded from 2012-2017"
   ]
  },
  {
   "cell_type": "markdown",
   "metadata": {},
   "source": [
    "# Conclusions\n",
    "\n",
    "For the Calculations, we can see that the minimum for both the high prices and the low prices for Uniqlo's stock on a certain day were quite close to each other at around 13600 - by looking at the models constructed, we can see that this occurred around 2012 - whether this was due to some sort of recession that occurred during that period or for some other reason I can not say for sure. The maximum values for each the high prices and low prices were also close to one another, with the low being 60740 and the high being 61970.\n",
    "\n",
    "The mean value of the high prices was 34178.78, and the mean value of the low prices was 33347.90, with standard deviation of around 10931.87 for the high prices and a standard deviation of 10691.30 for the low prices.\n",
    "\n",
    "The variance of the high prices is about 119505688.25, while the variance of the low prices  is about 114303921.26.\n",
    "\n",
    "\n",
    "Now, to answer the question of where could the stock be going in the future, it looks like the stock is on an upward trend - of course, there would be many more variables that play into predicting where the stock's trajectory lies, but based on looking at a simple graphical model of the history of the stock, it looks as if the stock will increase.\n",
    "\n",
    "A question I did not have prior to analyzing the data and looking at the model concerns about what occurred in the period between 2015 - 2016, where the stocks price surged to a 5 year high point? Finding out what occurred then would also be useful information in predicting where the stock may go.\n",
    "\n",
    "In general, the data that I have modeled does not give me a hundred percent confirmation of where the stock will go in the future. That being said, the data did give me more insights and possible considerations to other variables that would make me more confident in determining a more solid answer to what trend the stock make take.\n",
    "\n"
   ]
  },
  {
   "cell_type": "code",
   "execution_count": null,
   "metadata": {},
   "outputs": [],
   "source": []
  }
 ],
 "metadata": {
  "kernelspec": {
   "display_name": "Python 3",
   "language": "python",
   "name": "python3"
  },
  "language_info": {
   "codemirror_mode": {
    "name": "ipython",
    "version": 3
   },
   "file_extension": ".py",
   "mimetype": "text/x-python",
   "name": "python",
   "nbconvert_exporter": "python",
   "pygments_lexer": "ipython3",
   "version": "3.7.3"
  }
 },
 "nbformat": 4,
 "nbformat_minor": 4
}
